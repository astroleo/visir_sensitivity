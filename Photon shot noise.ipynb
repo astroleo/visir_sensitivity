{
 "cells": [
  {
   "cell_type": "code",
   "execution_count": 1,
   "metadata": {},
   "outputs": [],
   "source": [
    "from astropy.io import fits\n",
    "import numpy as np\n",
    "from matplotlib import pyplot as plt"
   ]
  },
  {
   "cell_type": "code",
   "execution_count": 3,
   "metadata": {},
   "outputs": [],
   "source": [
    "f_VISIR=(\"VISIR.2018-07-02T03_49_31.147.fits\")\n",
    "hdu=fits.open(f_VISIR)"
   ]
  },
  {
   "cell_type": "code",
   "execution_count": 7,
   "metadata": {},
   "outputs": [
    {
     "data": {
      "text/plain": [
       "<matplotlib.image.AxesImage at 0x11d427208>"
      ]
     },
     "execution_count": 7,
     "metadata": {},
     "output_type": "execute_result"
    },
    {
     "data": {
      "image/png": "[encoded data removed]",
      "text/plain": [
       "<Figure size 432x288 with 3 Axes>"
      ]
     },
     "metadata": {
      "needs_background": "light"
     },
     "output_type": "display_data"
    }
   ],
   "source": [
    "plt.subplot(131)\n",
    "plt.imshow(hdu[1].data,origin=\"lower\")\n",
    "plt.subplot(132)\n",
    "plt.imshow(hdu[2].data,origin=\"lower\")\n",
    "plt.subplot(133)\n",
    "plt.imshow(hdu[3].data,origin=\"lower\")"
   ]
  },
  {
   "cell_type": "markdown",
   "metadata": {},
   "source": [
    "The first two extensions hold the summed frames of chop positions A and B respectively; the third extension holds the (summed) chop-difference frame"
   ]
  },
  {
   "cell_type": "markdown",
   "metadata": {},
   "source": [
    "## Expected noise if the noise was photon-shot noise limited"
   ]
  },
  {
   "cell_type": "markdown",
   "metadata": {},
   "source": [
    "The standard deviation of a Poissonian-distributed signal is sqrt(avg), where avg is the average signal. For this application, we need to take into account, that the Poissonian distribution applies to the arrival time distribution of photons (or equivalently photo-electrons), but not for the converted digital signal. We therefore need to convert the digital signal into an electron signal by (1) removing the bias and (2) multiplying with the gain. We used the measured gain of the Aquarius detector in high-gain mode: 15 e/ADU (Ives+ 2012, SPIE proc. Fig. 11a)"
   ]
  },
  {
   "cell_type": "code",
   "execution_count": 13,
   "metadata": {},
   "outputs": [],
   "source": [
    "gain = 15"
   ]
  },
  {
   "cell_type": "markdown",
   "metadata": {},
   "source": [
    "ADU_avg = np.average(hdu[1].data[100:200,100:200])\n",
    "ADU_bias = np.average(hdu[1].data[0:100,900:1000])\n",
    "ADU_bias_subtracted = ADU_avg - ADU_bias\n",
    "e_avg = ADU_bias_subtracted * gain\n",
    "print(ADU_avg,ADU_bias,ADU_bias_subtracted,e_avg)"
   ]
  },
  {
   "cell_type": "markdown",
   "metadata": {},
   "source": [
    "The expected noise in this frame is therefore:"
   ]
  },
  {
   "cell_type": "code",
   "execution_count": 20,
   "metadata": {},
   "outputs": [
    {
     "data": {
      "text/plain": [
       "786.1191390503413"
      ]
     },
     "execution_count": 20,
     "metadata": {},
     "output_type": "execute_result"
    }
   ],
   "source": [
    "noise_e_avg = np.sqrt(e_avg)\n",
    "noise_e_avg"
   ]
  },
  {
   "cell_type": "markdown",
   "metadata": {},
   "source": [
    "In order to compare this to the noise in the final image, we need to know how many frames have been averaged for the final pair of frames (chop A, chop B). We get this information from the header:"
   ]
  },
  {
   "cell_type": "code",
   "execution_count": 25,
   "metadata": {},
   "outputs": [
    {
     "name": "stdout",
     "output_type": "stream",
     "text": [
      "The number of frames in each chop A/B position is:  2637\n"
     ]
    }
   ],
   "source": [
    "ndit_per_choppos = hdu[0].header[\"HIERARCH ESO DET NDIT\"]\n",
    "n_chopcycles = hdu[0].header[\"HIERARCH ESO DET CHOP NCYCLES\"]\n",
    "print(\"The number of frames in each chop A/B position is: \", ndit_per_choppos*n_chopcycles)"
   ]
  },
  {
   "cell_type": "markdown",
   "metadata": {},
   "source": [
    "To double check if this is OK, we can compare the summed up detector integration times (DITs) of the indivual frames with the total exposure time:"
   ]
  },
  {
   "cell_type": "code",
   "execution_count": 27,
   "metadata": {},
   "outputs": [
    {
     "name": "stdout",
     "output_type": "stream",
     "text": [
      "The sum of all DITs is 60.123599999999996\n",
      "The total exposure time is 73.4844\n"
     ]
    }
   ],
   "source": [
    "dit = hdu[0].header[\"HIERARCH ESO DET SEQ1 DIT\"]\n",
    "exptime = hdu[0].header[\"HIERARCH ESO DET SEQ1 EXPTIME\"]\n",
    "print(\"The sum of all DITs is\", dit*ndit_per_choppos*n_chopcycles*2) ## There are two positions (chop A/B) per chop cycle\n",
    "print(\"The total exposure time is\", exptime)"
   ]
  },
  {
   "cell_type": "markdown",
   "metadata": {},
   "source": [
    "The difference in these two numbers is due to dead time in between the chopping positions / set up time and other overheads."
   ]
  },
  {
   "cell_type": "markdown",
   "metadata": {},
   "source": [
    "The expected noise in the chop-difference frame is therefore:"
   ]
  },
  {
   "cell_type": "code",
   "execution_count": 31,
   "metadata": {},
   "outputs": [
    {
     "name": "stdout",
     "output_type": "stream",
     "text": [
      "21.649521540231156\n"
     ]
    }
   ],
   "source": [
    "expected_noise = noise_e_avg * np.sqrt(2) / np.sqrt(ndit_per_choppos*n_chopcycles) ## sqrt(2) from the subtraction of chop A - chop B in the combined image\n",
    "print(expected_noise)"
   ]
  },
  {
   "cell_type": "markdown",
   "metadata": {},
   "source": [
    "## Actual noise"
   ]
  },
  {
   "cell_type": "code",
   "execution_count": 11,
   "metadata": {},
   "outputs": [
    {
     "data": {
      "text/plain": [
       "1.5270067"
      ]
     },
     "execution_count": 11,
     "metadata": {},
     "output_type": "execute_result"
    }
   ],
   "source": [
    "# Noise in final combined frame outside the position of the star\n",
    "s_avg_ADU = np.std(hdu[3].data[100:200,100:200])\n",
    "s_avg_ADU"
   ]
  },
  {
   "cell_type": "markdown",
   "metadata": {},
   "source": [
    "Convert this into an equivalent photo-electron noise."
   ]
  },
  {
   "cell_type": "code",
   "execution_count": 32,
   "metadata": {},
   "outputs": [
    {
     "data": {
      "text/plain": [
       "22.9051011800766"
      ]
     },
     "execution_count": 32,
     "metadata": {},
     "output_type": "execute_result"
    }
   ],
   "source": [
    "s_avg_e = s_avg_ADU*gain\n",
    "s_avg_e"
   ]
  },
  {
   "cell_type": "markdown",
   "metadata": {},
   "source": [
    "The actual noise is very close to the expected noise for a Poisson distribution. It is therefore reasonable to conclude that the photon shot-noise is the dominant noise source and the exposure has therefore as little noise as possible. Detector noise sources do not contribute significantly."
   ]
  },
  {
   "cell_type": "code",
   "execution_count": null,
   "metadata": {},
   "outputs": [],
   "source": []
  }
 ],
 "metadata": {
  "kernelspec": {
   "display_name": "Python 3",
   "language": "python",
   "name": "python3"
  },
  "language_info": {
   "codemirror_mode": {
    "name": "ipython",
    "version": 3
   },
   "file_extension": ".py",
   "mimetype": "text/x-python",
   "name": "python",
   "nbconvert_exporter": "python",
   "pygments_lexer": "ipython3",
   "version": "3.7.1"
  }
 },
 "nbformat": 4,
 "nbformat_minor": 2
}
