{
 "cells": [
  {
   "cell_type": "markdown",
   "metadata": {},
   "source": [
    "# VISIR count rate calculations"
   ]
  },
  {
   "cell_type": "markdown",
   "metadata": {},
   "source": [
    "In this notebook we derive the expected count rate for the thermal background and for a source with a known brightness in VISIR. We use the VISIR observation VISIR.2017-04-21T06:06:06.467.fits as reference. The relevant numbers from this observation are quoted below.\n",
    "\n",
    "* Median background counts: 32000 ADU\n",
    "* Median counts in dark/masked area: 9000 ADU\n",
    "* Detector gain in high-gain mode: 15 e/ADU (Ives+ 2012, SPIE proc. Fig. 11a)\n",
    "* Detector integration time: 11.4 ms (from header)\n",
    "* Filter: B10.7 (central wavelength: 10.65 micron, half-bandwidth: 1.37 micron, according to VISIR User Manual v97.1, Tab. 1)\n",
    "* Camera: TMA_SF (small field)\n",
    "* Detector pixel field of view: 0.045 arcseconds (VISIR User Manual v97.1, sec. 4.1)\n",
    "\n",
    "This VISIR observation was pointed at the calibration star HD 123139 which has a flux density in the B10.7 micron filter of 49.1 Jy  (Cohen et al. 1999, AJ 117, 1864). The observed count rate of this star is 408000 ADU/DIT in the chop-difference frame. The chop-difference frame is simply the difference between the average of the chop A position and the average of the chop B position, i.e. it also contains ADU/DIT (and not some fraction of it)."
   ]
  },
  {
   "cell_type": "code",
   "execution_count": 1,
   "metadata": {},
   "outputs": [
    {
     "name": "stdout",
     "output_type": "stream",
     "text": [
      "Populating the interactive namespace from numpy and matplotlib\n"
     ]
    }
   ],
   "source": [
    "from astropy import constants as const\n",
    "from astropy import units as u\n",
    "from astropy.modeling.blackbody import blackbody_lambda\n",
    "from astropy.io import fits\n",
    "from matplotlib import pyplot as plt\n",
    "import numpy as np\n",
    "%pylab inline"
   ]
  },
  {
   "cell_type": "markdown",
   "metadata": {},
   "source": [
    "## Expected source count rate / total system transmission"
   ]
  },
  {
   "cell_type": "code",
   "execution_count": 2,
   "metadata": {
    "collapsed": true
   },
   "outputs": [],
   "source": [
    "#VLT mirror area (8.2m diameter, 1.1m central obscuration diameter)\n",
    "VLT_area = np.pi * (4.1*u.m)**2 - np.pi * (0.55*u.m)**2"
   ]
  },
  {
   "cell_type": "code",
   "execution_count": 3,
   "metadata": {
    "collapsed": true
   },
   "outputs": [],
   "source": [
    "F_star = 49.1 * u.Jy"
   ]
  },
  {
   "cell_type": "code",
   "execution_count": 4,
   "metadata": {
    "collapsed": true
   },
   "outputs": [],
   "source": [
    "# dnu = dlambda * c/lambda**2\n",
    "bandwidth_nu = 2*1.37*u.micron * const.c/(10.65*u.micron)**2"
   ]
  },
  {
   "cell_type": "code",
   "execution_count": 5,
   "metadata": {
    "collapsed": true
   },
   "outputs": [],
   "source": [
    "energy_ph=const.h*const.c/(10*u.micron)"
   ]
  },
  {
   "cell_type": "code",
   "execution_count": 6,
   "metadata": {
    "collapsed": true
   },
   "outputs": [],
   "source": [
    "photonrate_star = (F_star * VLT_area * bandwidth_nu/energy_ph).decompose()"
   ]
  },
  {
   "cell_type": "code",
   "execution_count": 7,
   "metadata": {},
   "outputs": [
    {
     "data": {
      "text/latex": [
       "$9.2834199 \\times 10^{9} \\; \\mathrm{\\frac{1}{s}}$"
      ],
      "text/plain": [
       "<Quantity 9283419926.986786 1 / s>"
      ]
     },
     "execution_count": 7,
     "metadata": {},
     "output_type": "execute_result"
    }
   ],
   "source": [
    "# Expected photon rate of the star for 100% system transmission\n",
    "photonrate_star"
   ]
  },
  {
   "cell_type": "code",
   "execution_count": 8,
   "metadata": {
    "collapsed": true
   },
   "outputs": [],
   "source": [
    "counts_detected = 408000 # ADU\n",
    "det_gain = 15 # electrons/ADU\n",
    "det_dit = 11.4*u.ms\n",
    "photonrate_detected = (counts_detected * det_gain / det_dit).decompose()"
   ]
  },
  {
   "cell_type": "code",
   "execution_count": 9,
   "metadata": {},
   "outputs": [
    {
     "data": {
      "text/latex": [
       "$5.3684211 \\times 10^{8} \\; \\mathrm{\\frac{1}{s}}$"
      ],
      "text/plain": [
       "<Quantity 536842105.26315784 1 / s>"
      ]
     },
     "execution_count": 9,
     "metadata": {},
     "output_type": "execute_result"
    }
   ],
   "source": [
    "# Detected photon count rate\n",
    "photonrate_detected"
   ]
  },
  {
   "cell_type": "code",
   "execution_count": 10,
   "metadata": {},
   "outputs": [
    {
     "name": "stdout",
     "output_type": "stream",
     "text": [
      "The total system transmission is thus 5.78%\n"
     ]
    }
   ],
   "source": [
    "# Total system transmission\n",
    "trans = photonrate_detected/photonrate_star\n",
    "print(\"The total system transmission is thus {0:3.2f}%\".format(100*trans))"
   ]
  },
  {
   "cell_type": "code",
   "execution_count": 11,
   "metadata": {},
   "outputs": [
    {
     "name": "stdout",
     "output_type": "stream",
     "text": [
      "The total expected transmission is 13.74%\n",
      "The expected transmission of VISIR only is 16.92%\n"
     ]
    }
   ],
   "source": [
    "# Let's see if we can understand this transmission\n",
    "trans_atmo_filter = 0.9 # estimated atmospheric transparency in B10.7 filter (conservative)\n",
    "trans_telescope = 0.95**2 # two reflections of 0.95 reflectivity each\n",
    "trans_entrance_window = 0.94 # using ZnSe curve from Roy\n",
    "trans_foreoptics = 0.5 # out of thin air (conservative)\n",
    "trans_B107_filter = 0.6 # assumed from the other filter curves in the user manual\n",
    "qe_aquarius = 0.6 # latest figure from ESO (Derek Ives at detector splinter, METIS CM06)\n",
    "trans_expected = trans_atmo_filter * trans_telescope * trans_entrance_window * trans_foreoptics * trans_B107_filter * qe_aquarius\n",
    "print(\"The total expected transmission is {0:3.2f}%\".format(100*trans_expected))\n",
    "trans_expected_no_atmo = trans_entrance_window * trans_foreoptics * trans_B107_filter * qe_aquarius\n",
    "print(\"The expected transmission of VISIR only is {0:3.2f}%\".format(100*trans_expected_no_atmo))"
   ]
  },
  {
   "cell_type": "markdown",
   "metadata": {},
   "source": [
    "### Open question 1: Where does the remaining factor ~ 2.5 in the VLT/VISIR system transmission come from?"
   ]
  },
  {
   "cell_type": "markdown",
   "metadata": {},
   "source": [
    "Suggestions:\n",
    "* Transmission of components is lower than assumed\n",
    "* Gain is larger than assumed"
   ]
  },
  {
   "cell_type": "markdown",
   "metadata": {},
   "source": [
    "## Background count rate / physical model"
   ]
  },
  {
   "cell_type": "markdown",
   "metadata": {},
   "source": [
    "### Expected count rate from telescope"
   ]
  },
  {
   "cell_type": "code",
   "execution_count": 33,
   "metadata": {},
   "outputs": [
    {
     "name": "stdout",
     "output_type": "stream",
     "text": [
      "The expected photon rate from the telescope is 1.30E+08 photons/pixel/s\n"
     ]
    }
   ],
   "source": [
    "# Expected count rate from the two warm mirrors; using average temperature of all VISIR observations from header\n",
    "emissivity = 0.05 ## assumed emissivity for two warm mirrors\n",
    "bg_tel_photon_flux = emissivity * (blackbody_lambda(10.65*u.micron,285*u.Kelvin)*(45*u.mas)**2*VLT_area*2.74*u.micron/energy_ph).to(\"1/s\")\n",
    "print(\"The expected photon rate from the telescope is {0:.2E} photons/pixel/s\".format(bg_tel_photon_flux.value))"
   ]
  },
  {
   "cell_type": "markdown",
   "metadata": {},
   "source": [
    "### Expected count rate from atmosphere via skycalc model"
   ]
  },
  {
   "cell_type": "code",
   "execution_count": 34,
   "metadata": {
    "collapsed": true
   },
   "outputs": [],
   "source": [
    "hdu=fits.open(\"skytable.fits\") # from from http://www.eso.org/observing/etc/bin/simu/skycalc\n",
    "lam = hdu[1].data[\"lam\"]*u.micron\n",
    "radiance = hdu[1].data[\"flux\"]/(u.s*u.m**2*u.micron*u.arcsec**2)"
   ]
  },
  {
   "cell_type": "code",
   "execution_count": 35,
   "metadata": {},
   "outputs": [
    {
     "data": {
      "text/plain": [
       "<matplotlib.text.Text at 0x113dcbcc0>"
      ]
     },
     "execution_count": 35,
     "metadata": {},
     "output_type": "execute_result"
    },
    {
     "data": {
      "image/png": "[encoded data removed]",
      "text/plain": [
       "<matplotlib.figure.Figure at 0x113d322b0>"
      ]
     },
     "metadata": {},
     "output_type": "display_data"
    }
   ],
   "source": [
    "plt.plot(lam,radiance)\n",
    "plt.xlabel(\"Wavelength [{0}]\".format(lam.unit))\n",
    "plt.ylabel(\"Radiance [{0}]\".format(radiance.unit))\n",
    "plt.title(\"Skycalc model, PWV = 2.50 mm\")"
   ]
  },
  {
   "cell_type": "code",
   "execution_count": 36,
   "metadata": {},
   "outputs": [
    {
     "name": "stdout",
     "output_type": "stream",
     "text": [
      "The expected background flux from the atmosphere is 1.26E+08 photons/pixel/s\n"
     ]
    }
   ],
   "source": [
    "# Integrated sky emission in B10.7 filter\n",
    "filter_edges = [10.65-1.37,10.65+1.37]\n",
    "bg_atmo_radiance = np.average(radiance.value[(lam.value>filter_edges[0])&(lam.value<filter_edges[1])])\n",
    "bg_atmo_photon_flux = (bg_atmo_radiance*radiance.unit * (45*u.mas)**2 * VLT_area * np.diff(filter_edges)*u.micron).decompose()[0]\n",
    "print(\"The expected background flux from the atmosphere is {0:.2E} photons/pixel/s\".format(bg_atmo_photon_flux.value))"
   ]
  },
  {
   "cell_type": "markdown",
   "metadata": {},
   "source": [
    "### Total count rate and comparison to observation"
   ]
  },
  {
   "cell_type": "code",
   "execution_count": 37,
   "metadata": {},
   "outputs": [
    {
     "name": "stdout",
     "output_type": "stream",
     "text": [
      "The expected total background flux is 2.56E+08 photons/pixel/s\n"
     ]
    }
   ],
   "source": [
    "# Total count rate\n",
    "bg_photon_flux = bg_tel_photon_flux + bg_atmo_photon_flux\n",
    "print(\"The expected total background flux is {0:.2E} photons/pixel/s\".format(bg_photon_flux.value))"
   ]
  },
  {
   "cell_type": "code",
   "execution_count": 38,
   "metadata": {},
   "outputs": [
    {
     "name": "stdout",
     "output_type": "stream",
     "text": [
      "The expected background count rate is 9.89E+05 ADU/pixel/s\n"
     ]
    }
   ],
   "source": [
    "# Convert to expected count rate using calculated total system transmission and Aquarius detector gain\n",
    "bg_adu = bg_photon_flux*trans/det_gain\n",
    "print(\"The expected background count rate is {0:.2E} ADU/pixel/s\".format(bg_adu.value))"
   ]
  },
  {
   "cell_type": "code",
   "execution_count": 39,
   "metadata": {},
   "outputs": [
    {
     "name": "stdout",
     "output_type": "stream",
     "text": [
      "The observed background count rate in VISIR is 2.02E+06 ADU/pixel/s\n"
     ]
    }
   ],
   "source": [
    "# The observed background rate in the VISIR detector is ca. 32000 - 9000 = 23000 ADU/DIT\n",
    "adu_bg_total_obs = (23000 / det_dit).decompose()\n",
    "print(\"The observed background count rate in VISIR is {0:.2E} ADU/pixel/s\".format(adu_bg_total_obs.value))"
   ]
  },
  {
   "cell_type": "markdown",
   "metadata": {
    "collapsed": true
   },
   "source": [
    "### Open question 2: Understand the difference in expected and actual background count rate"
   ]
  },
  {
   "cell_type": "markdown",
   "metadata": {
    "collapsed": true
   },
   "source": [
    "The two count rates would match if the emissivity of the two warm mirrors (+ entrance window) were 15% (rather than the assumed 5%)"
   ]
  }
 ],
 "metadata": {
  "kernelspec": {
   "display_name": "Python 3",
   "language": "python",
   "name": "python3"
  },
  "language_info": {
   "codemirror_mode": {
    "name": "ipython",
    "version": 3
   },
   "file_extension": ".py",
   "mimetype": "text/x-python",
   "name": "python",
   "nbconvert_exporter": "python",
   "pygments_lexer": "ipython3",
   "version": "3.6.1"
  }
 },
 "nbformat": 4,
 "nbformat_minor": 2
}
